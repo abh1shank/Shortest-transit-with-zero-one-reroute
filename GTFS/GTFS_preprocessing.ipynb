{
 "cells": [
  {
   "cell_type": "code",
   "execution_count": 21,
   "id": "92fc1f2e",
   "metadata": {},
   "outputs": [],
   "source": [
    "import pandas as pd \n",
    "from collections import defaultdict, deque"
   ]
  },
  {
   "cell_type": "code",
   "execution_count": 2,
   "id": "4b0729ce",
   "metadata": {},
   "outputs": [],
   "source": [
    "stop_times=pd.read_csv('stop_times.txt')"
   ]
  },
  {
   "cell_type": "code",
   "execution_count": 3,
   "id": "151ac2bd",
   "metadata": {},
   "outputs": [
    {
     "data": {
      "text/html": [
       "<div>\n",
       "<style scoped>\n",
       "    .dataframe tbody tr th:only-of-type {\n",
       "        vertical-align: middle;\n",
       "    }\n",
       "\n",
       "    .dataframe tbody tr th {\n",
       "        vertical-align: top;\n",
       "    }\n",
       "\n",
       "    .dataframe thead th {\n",
       "        text-align: right;\n",
       "    }\n",
       "</style>\n",
       "<table border=\"1\" class=\"dataframe\">\n",
       "  <thead>\n",
       "    <tr style=\"text-align: right;\">\n",
       "      <th></th>\n",
       "      <th>trip_id</th>\n",
       "      <th>arrival_time</th>\n",
       "      <th>departure_time</th>\n",
       "      <th>stop_id</th>\n",
       "      <th>stop_sequence</th>\n",
       "      <th>pickup_type</th>\n",
       "      <th>drop_off_type</th>\n",
       "    </tr>\n",
       "  </thead>\n",
       "  <tbody>\n",
       "    <tr>\n",
       "      <th>0</th>\n",
       "      <td>22580120000007</td>\n",
       "      <td>7:33:00</td>\n",
       "      <td>7:33:00</td>\n",
       "      <td>740000597</td>\n",
       "      <td>1</td>\n",
       "      <td>0</td>\n",
       "      <td>1</td>\n",
       "    </tr>\n",
       "    <tr>\n",
       "      <th>1</th>\n",
       "      <td>22580120000007</td>\n",
       "      <td>7:34:00</td>\n",
       "      <td>7:34:00</td>\n",
       "      <td>740031907</td>\n",
       "      <td>2</td>\n",
       "      <td>0</td>\n",
       "      <td>0</td>\n",
       "    </tr>\n",
       "    <tr>\n",
       "      <th>2</th>\n",
       "      <td>22580120000007</td>\n",
       "      <td>7:35:00</td>\n",
       "      <td>7:35:00</td>\n",
       "      <td>740031906</td>\n",
       "      <td>3</td>\n",
       "      <td>0</td>\n",
       "      <td>0</td>\n",
       "    </tr>\n",
       "    <tr>\n",
       "      <th>3</th>\n",
       "      <td>22580120000007</td>\n",
       "      <td>7:37:00</td>\n",
       "      <td>7:37:00</td>\n",
       "      <td>740023373</td>\n",
       "      <td>4</td>\n",
       "      <td>0</td>\n",
       "      <td>0</td>\n",
       "    </tr>\n",
       "    <tr>\n",
       "      <th>4</th>\n",
       "      <td>22580120000007</td>\n",
       "      <td>7:38:00</td>\n",
       "      <td>7:38:00</td>\n",
       "      <td>740001062</td>\n",
       "      <td>5</td>\n",
       "      <td>0</td>\n",
       "      <td>0</td>\n",
       "    </tr>\n",
       "  </tbody>\n",
       "</table>\n",
       "</div>"
      ],
      "text/plain": [
       "          trip_id arrival_time departure_time    stop_id  stop_sequence  \\\n",
       "0  22580120000007      7:33:00        7:33:00  740000597              1   \n",
       "1  22580120000007      7:34:00        7:34:00  740031907              2   \n",
       "2  22580120000007      7:35:00        7:35:00  740031906              3   \n",
       "3  22580120000007      7:37:00        7:37:00  740023373              4   \n",
       "4  22580120000007      7:38:00        7:38:00  740001062              5   \n",
       "\n",
       "   pickup_type  drop_off_type  \n",
       "0            0              1  \n",
       "1            0              0  \n",
       "2            0              0  \n",
       "3            0              0  \n",
       "4            0              0  "
      ]
     },
     "execution_count": 3,
     "metadata": {},
     "output_type": "execute_result"
    }
   ],
   "source": [
    "stop_times.head()"
   ]
  },
  {
   "cell_type": "code",
   "execution_count": 4,
   "id": "fec761d4",
   "metadata": {},
   "outputs": [],
   "source": [
    "trips=pd.read_csv('trips.txt')"
   ]
  },
  {
   "cell_type": "code",
   "execution_count": 5,
   "id": "3e93e1cd",
   "metadata": {},
   "outputs": [
    {
     "data": {
      "text/html": [
       "<div>\n",
       "<style scoped>\n",
       "    .dataframe tbody tr th:only-of-type {\n",
       "        vertical-align: middle;\n",
       "    }\n",
       "\n",
       "    .dataframe tbody tr th {\n",
       "        vertical-align: top;\n",
       "    }\n",
       "\n",
       "    .dataframe thead th {\n",
       "        text-align: right;\n",
       "    }\n",
       "</style>\n",
       "<table border=\"1\" class=\"dataframe\">\n",
       "  <thead>\n",
       "    <tr style=\"text-align: right;\">\n",
       "      <th></th>\n",
       "      <th>route_id</th>\n",
       "      <th>service_id</th>\n",
       "      <th>trip_id</th>\n",
       "      <th>trip_headsign</th>\n",
       "      <th>trip_short_name</th>\n",
       "    </tr>\n",
       "  </thead>\n",
       "  <tbody>\n",
       "    <tr>\n",
       "      <th>0</th>\n",
       "      <td>1258012000001</td>\n",
       "      <td>1023</td>\n",
       "      <td>22580120000007</td>\n",
       "      <td>Jändelskolan</td>\n",
       "      <td>NaN</td>\n",
       "    </tr>\n",
       "    <tr>\n",
       "      <th>1</th>\n",
       "      <td>1258012000001</td>\n",
       "      <td>1024</td>\n",
       "      <td>22580120000107</td>\n",
       "      <td>Jämjö centrum Jämjöhallen</td>\n",
       "      <td>NaN</td>\n",
       "    </tr>\n",
       "    <tr>\n",
       "      <th>2</th>\n",
       "      <td>1258012000001</td>\n",
       "      <td>1</td>\n",
       "      <td>22580120000003</td>\n",
       "      <td>Jämjö Parkvägen</td>\n",
       "      <td>NaN</td>\n",
       "    </tr>\n",
       "    <tr>\n",
       "      <th>3</th>\n",
       "      <td>1258012000001</td>\n",
       "      <td>1</td>\n",
       "      <td>22580120000005</td>\n",
       "      <td>Jämjö Parkvägen</td>\n",
       "      <td>NaN</td>\n",
       "    </tr>\n",
       "    <tr>\n",
       "      <th>4</th>\n",
       "      <td>1258012000001</td>\n",
       "      <td>1</td>\n",
       "      <td>22580120000001</td>\n",
       "      <td>Jämjö Parkvägen</td>\n",
       "      <td>NaN</td>\n",
       "    </tr>\n",
       "  </tbody>\n",
       "</table>\n",
       "</div>"
      ],
      "text/plain": [
       "        route_id  service_id         trip_id              trip_headsign  \\\n",
       "0  1258012000001        1023  22580120000007               Jändelskolan   \n",
       "1  1258012000001        1024  22580120000107  Jämjö centrum Jämjöhallen   \n",
       "2  1258012000001           1  22580120000003            Jämjö Parkvägen   \n",
       "3  1258012000001           1  22580120000005            Jämjö Parkvägen   \n",
       "4  1258012000001           1  22580120000001            Jämjö Parkvägen   \n",
       "\n",
       "  trip_short_name  \n",
       "0             NaN  \n",
       "1             NaN  \n",
       "2             NaN  \n",
       "3             NaN  \n",
       "4             NaN  "
      ]
     },
     "execution_count": 5,
     "metadata": {},
     "output_type": "execute_result"
    }
   ],
   "source": [
    "trips.head()"
   ]
  },
  {
   "cell_type": "code",
   "execution_count": 7,
   "id": "8ffab006",
   "metadata": {},
   "outputs": [],
   "source": [
    "trip_route_mapping={}\n",
    "for index, row in trips.iterrows():\n",
    "    trip_id = row['trip_id']\n",
    "    route_id = row['route_id']\n",
    "    trip_route_mapping[trip_id] = route_id"
   ]
  },
  {
   "cell_type": "code",
   "execution_count": 13,
   "id": "b46c6e7e",
   "metadata": {},
   "outputs": [],
   "source": [
    "stop_route_map = {}\n",
    "\n",
    "for index, row in stop_times.iterrows():\n",
    "    stop_id = row['stop_id']\n",
    "    route_id = trip_route_mapping.get(row['trip_id'])  \n",
    "    if route_id is not None: \n",
    "        if stop_id not in stop_route_map:\n",
    "            stop_route_map[stop_id] = set()  \n",
    "        stop_route_map[stop_id].add(route_id)"
   ]
  },
  {
   "cell_type": "code",
   "execution_count": 18,
   "id": "c0d21cf7",
   "metadata": {},
   "outputs": [
    {
     "data": {
      "text/plain": [
       "50524"
      ]
     },
     "execution_count": 18,
     "metadata": {},
     "output_type": "execute_result"
    }
   ],
   "source": [
    "len(stop_route_map)"
   ]
  },
  {
   "cell_type": "code",
   "execution_count": 19,
   "id": "1ac04b87",
   "metadata": {},
   "outputs": [],
   "source": [
    "#we will make maps to see routes directly reachable from a stop, reachable with one reroute and reachable with two reroutes"
   ]
  },
  {
   "cell_type": "code",
   "execution_count": 22,
   "id": "ba17c4fd",
   "metadata": {},
   "outputs": [],
   "source": [
    "route_stop_map = defaultdict(list)\n",
    "for stop, routes in stop_route_map.items():\n",
    "    for route in routes:\n",
    "        route_stop_map[route].append(stop)"
   ]
  },
  {
   "cell_type": "code",
   "execution_count": 24,
   "id": "0bebbbd4",
   "metadata": {},
   "outputs": [
    {
     "data": {
      "text/plain": [
       "10243"
      ]
     },
     "execution_count": 24,
     "metadata": {},
     "output_type": "execute_result"
    }
   ],
   "source": [
    "len(route_stop_map)"
   ]
  },
  {
   "cell_type": "code",
   "execution_count": 36,
   "id": "39044233",
   "metadata": {},
   "outputs": [],
   "source": [
    "# Write stop_route_map to a text file\n",
    "with open('stop_route_map.txt', 'w') as file:\n",
    "    for stop, routes in stop_route_map.items():\n",
    "        file.write(f\"{stop},\")\n",
    "        file.write(\",\".join(map(str, routes)))  # Convert integers to strings\n",
    "        file.write(\",\\n\")\n",
    "\n",
    "# Write route_stop_map to a text file\n",
    "with open('route_stop_map.txt', 'w') as file:\n",
    "    for route, stops in route_stop_map.items():\n",
    "        file.write(f\"{route},\")\n",
    "        file.write(\",\".join(map(str, stops)))  # Convert integers to strings\n",
    "        file.write(\",\\n\")\n"
   ]
  },
  {
   "cell_type": "code",
   "execution_count": 31,
   "id": "ed61df40",
   "metadata": {
    "scrolled": true
   },
   "outputs": [],
   "source": []
  },
  {
   "cell_type": "code",
   "execution_count": null,
   "id": "2cdb9de2",
   "metadata": {},
   "outputs": [],
   "source": []
  },
  {
   "cell_type": "code",
   "execution_count": null,
   "id": "211104c8",
   "metadata": {},
   "outputs": [],
   "source": []
  }
 ],
 "metadata": {
  "kernelspec": {
   "display_name": "Python 3 (ipykernel)",
   "language": "python",
   "name": "python3"
  },
  "language_info": {
   "codemirror_mode": {
    "name": "ipython",
    "version": 3
   },
   "file_extension": ".py",
   "mimetype": "text/x-python",
   "name": "python",
   "nbconvert_exporter": "python",
   "pygments_lexer": "ipython3",
   "version": "3.11.3"
  }
 },
 "nbformat": 4,
 "nbformat_minor": 5
}
